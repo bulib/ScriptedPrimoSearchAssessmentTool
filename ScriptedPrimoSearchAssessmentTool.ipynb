{
 "cells": [
  {
   "cell_type": "markdown",
   "metadata": {},
   "source": [
    "#Scripted Primo Search Assessment Tool"
   ]
  },
  {
   "cell_type": "markdown",
   "metadata": {
    "collapsed": true
   },
   "source": [
    "Description: < Describe the purpose of the SPSAT>"
   ]
  },
  {
   "cell_type": "markdown",
   "metadata": {},
   "source": [
    "## Load required libraries"
   ]
  },
  {
   "cell_type": "code",
   "execution_count": 4,
   "metadata": {
    "collapsed": false
   },
   "outputs": [],
   "source": [
    "import numpy as np\n",
    "import pandas as pd\n",
    "import matplotlib as plt\n",
    "import glob\n",
    "import os\n",
    "import codecs\n",
    "import json\n",
    "import time\n",
    "from urllib.request import Request, urlopen\n",
    "from urllib.parse import urlencode, quote_plus"
   ]
  },
  {
   "cell_type": "markdown",
   "metadata": {},
   "source": [
    "##Define Some Variables"
   ]
  },
  {
   "cell_type": "code",
   "execution_count": 2,
   "metadata": {
    "collapsed": false
   },
   "outputs": [],
   "source": [
    "## URLs ##\n",
    "\n",
    "# prod_url = <base url>\n",
    "prod_url_base = 'http://bu-primo.hosted.exlibrisgroup.com:1701/PrimoWebServices/xservice/search/brief'\n",
    "# stage_url = <base url>\n",
    "stage_url_base = 'http://bu-primostage.hosted.exlibrisgroup.com:1701/PrimoWebServices/xservice/search/brief'\n",
    "\n",
    "## query params ##\n",
    "query_Params1 = '?institution=BOSU&query=any,contains,'\n",
    "query_Params2 = '&indx=1&bulkSize=10&loc=local,scope,BOSU&loc=adaptor,primo_central_multiple_fe&onCampus=true&json=true'\n",
    "stage = True\n",
    "#production = True\n",
    "#num_results = 10\n",
    "#scope = \n",
    "\n",
    "## file locations ## \n",
    "\n",
    "# move to working directory, this is the path where we want files to reside\n",
    "os.chdir('/Volumes/jwa_drive1/git/spst')\n",
    "\n",
    "# Input file (contains search strings)\n",
    "f = '/Volumes/jwa_drive1/git/spst/search_strings.csv'"
   ]
  },
  {
   "cell_type": "markdown",
   "metadata": {},
   "source": [
    "##Define functions"
   ]
  },
  {
   "cell_type": "code",
   "execution_count": 3,
   "metadata": {
    "collapsed": true
   },
   "outputs": [],
   "source": [
    "# build_url \n",
    "    # takes base_url and search_string, returns url properly formated for searching\n",
    "def build_url(base_url,search_string):\n",
    "    url = base_url+query_Params1 + search_string.replace(' ','+') + query_Params2\n",
    "    return(url)\n",
    "    \n",
    "# parse_response \n",
    "    # takes response (as json) from search, returns response_dict (dict of our responses)\n",
    "def parse_response(response):\n",
    "    response_dict = {}\n",
    "    # parse the response to return the data desired elements\n",
    "    response = json.loads(response.decode('utf8'))\n",
    "    # need to extract the desired elements and add them to a dict\n",
    "    return(response_dict)\n",
    "\n"
   ]
  },
  {
   "cell_type": "code",
   "execution_count": 5,
   "metadata": {
    "collapsed": false
   },
   "outputs": [],
   "source": [
    "# open input file, read each line as a separate string, and remove the new line character\n",
    "search_strings = open(f).read().splitlines()"
   ]
  },
  {
   "cell_type": "code",
   "execution_count": 2,
   "metadata": {
    "collapsed": false
   },
   "outputs": [
    {
     "ename": "NameError",
     "evalue": "name 'search_strings' is not defined",
     "output_type": "error",
     "traceback": [
      "\u001b[0;31m---------------------------------------------------------------------------\u001b[0m",
      "\u001b[0;31mNameError\u001b[0m                                 Traceback (most recent call last)",
      "\u001b[0;32m<ipython-input-2-bf5fd7b95700>\u001b[0m in \u001b[0;36m<module>\u001b[0;34m()\u001b[0m\n\u001b[1;32m      8\u001b[0m \u001b[0;34m\u001b[0m\u001b[0m\n\u001b[1;32m      9\u001b[0m \u001b[0;31m# Loop through search_strings, execute search, ... [to be done?]\u001b[0m\u001b[0;34m\u001b[0m\u001b[0;34m\u001b[0m\u001b[0m\n\u001b[0;32m---> 10\u001b[0;31m \u001b[0;32mfor\u001b[0m \u001b[0msearch_url\u001b[0m \u001b[0;32min\u001b[0m \u001b[0msearch_strings\u001b[0m\u001b[0;34m:\u001b[0m\u001b[0;34m\u001b[0m\u001b[0m\n\u001b[0m\u001b[1;32m     11\u001b[0m     \u001b[0mtime\u001b[0m\u001b[0;34m.\u001b[0m\u001b[0msleep\u001b[0m\u001b[0;34m(\u001b[0m\u001b[0;36m1\u001b[0m\u001b[0;34m)\u001b[0m\u001b[0;34m\u001b[0m\u001b[0m\n\u001b[1;32m     12\u001b[0m \u001b[0;34m\u001b[0m\u001b[0m\n",
      "\u001b[0;31mNameError\u001b[0m: name 'search_strings' is not defined"
     ]
    }
   ],
   "source": [
    "# create a DataFrame. Expand the columns to match the desired elements\n",
    "# to be returned by the function 'parse_response'\n",
    "\n",
    "# Create a dataframe with\n",
    "# - column for search string \n",
    "# - column for response (returned from parse_response fuction)\n",
    "df = pd.DataFrame(columns = ['SearchStr', 'Response'])\n",
    "\n",
    "# Loop through search_strings, execute search, ... [to be done?]\n",
    "for search_url in search_strings:\n",
    "    time.sleep(1)\n",
    "    \n",
    "    \n",
    "    # can we use build_url here? \n",
    "    search_url = stage_url_base+query_Params1 + search_url.replace(' ','+') + query_Params2\n",
    "    request = Request(search_url)\n",
    "    \n",
    "    # maybe we could do ... \n",
    "    # request = Request(build_url(stage_url_base,search_url))\n",
    "    \n",
    "    \n",
    "    try:\n",
    "        response_body = urlopen(request).read() # reads request into response_body var\n",
    "    \n",
    "        # second dataframe? \n",
    "        df_response = pd.DataFrame([[search_url, parse_response(response_body)]],columns = ['SearchStr', 'Response'])\n",
    "        df = df.append(df_response, ignore_index = True)\n",
    "    #prints errors \n",
    "    except Exception as e:\n",
    "        print(e)"
   ]
  },
  {
   "cell_type": "code",
   "execution_count": 7,
   "metadata": {
    "collapsed": false
   },
   "outputs": [
    {
     "data": {
      "text/html": [
       "<div style=\"max-height:1000px;max-width:1500px;overflow:auto;\">\n",
       "<table border=\"1\" class=\"dataframe\">\n",
       "  <thead>\n",
       "    <tr style=\"text-align: right;\">\n",
       "      <th></th>\n",
       "      <th>SearchStr</th>\n",
       "      <th>Response</th>\n",
       "    </tr>\n",
       "  </thead>\n",
       "  <tbody>\n",
       "    <tr>\n",
       "      <th>0</th>\n",
       "      <td> http://bu-primostage.hosted.exlibrisgroup.com:...</td>\n",
       "      <td> {}</td>\n",
       "    </tr>\n",
       "    <tr>\n",
       "      <th>1</th>\n",
       "      <td> http://bu-primostage.hosted.exlibrisgroup.com:...</td>\n",
       "      <td> {}</td>\n",
       "    </tr>\n",
       "    <tr>\n",
       "      <th>2</th>\n",
       "      <td> http://bu-primostage.hosted.exlibrisgroup.com:...</td>\n",
       "      <td> {}</td>\n",
       "    </tr>\n",
       "    <tr>\n",
       "      <th>3</th>\n",
       "      <td> http://bu-primostage.hosted.exlibrisgroup.com:...</td>\n",
       "      <td> {}</td>\n",
       "    </tr>\n",
       "    <tr>\n",
       "      <th>4</th>\n",
       "      <td> http://bu-primostage.hosted.exlibrisgroup.com:...</td>\n",
       "      <td> {}</td>\n",
       "    </tr>\n",
       "  </tbody>\n",
       "</table>\n",
       "</div>"
      ],
      "text/plain": [
       "                                           SearchStr Response\n",
       "0  http://bu-primostage.hosted.exlibrisgroup.com:...       {}\n",
       "1  http://bu-primostage.hosted.exlibrisgroup.com:...       {}\n",
       "2  http://bu-primostage.hosted.exlibrisgroup.com:...       {}\n",
       "3  http://bu-primostage.hosted.exlibrisgroup.com:...       {}\n",
       "4  http://bu-primostage.hosted.exlibrisgroup.com:...       {}"
      ]
     },
     "execution_count": 7,
     "metadata": {},
     "output_type": "execute_result"
    }
   ],
   "source": [
    "# verify dataframe\n",
    "df.head()"
   ]
  },
  {
   "cell_type": "code",
   "execution_count": null,
   "metadata": {
    "collapsed": true
   },
   "outputs": [],
   "source": []
  }
 ],
 "metadata": {
  "kernelspec": {
   "display_name": "Python 2",
   "language": "python",
   "name": "python2"
  },
  "language_info": {
   "codemirror_mode": {
    "name": "ipython",
    "version": 2
   },
   "file_extension": ".py",
   "mimetype": "text/x-python",
   "name": "python",
   "nbconvert_exporter": "python",
   "pygments_lexer": "ipython2",
   "version": "2.7.9"
  }
 },
 "nbformat": 4,
 "nbformat_minor": 0
}
