{
 "cells": [
  {
   "cell_type": "markdown",
   "metadata": {},
   "source": [
    "#Scripted Primo Search Assessment Tool"
   ]
  },
  {
   "cell_type": "markdown",
   "metadata": {
    "collapsed": true
   },
   "source": [
    "Description: < Describe the purpose of the SPSAT>"
   ]
  },
  {
   "cell_type": "markdown",
   "metadata": {},
   "source": [
    "## Load required libraries"
   ]
  },
  {
   "cell_type": "code",
   "execution_count": 1,
   "metadata": {
    "collapsed": true
   },
   "outputs": [],
   "source": [
    "import numpy as np\n",
    "import pandas as pd\n",
    "import matplotlib as plt\n",
    "import glob\n",
    "import os\n",
    "import codecs\n",
    "import json\n",
    "import time\n",
    "from urllib.request import Request, urlopen\n",
    "from urllib.parse import urlencode, quote_plus"
   ]
  },
  {
   "cell_type": "markdown",
   "metadata": {},
   "source": [
    "##Define Some Variables"
   ]
  },
  {
   "cell_type": "code",
   "execution_count": 2,
   "metadata": {
    "collapsed": false
   },
   "outputs": [],
   "source": [
    "#prod_url = <base url>\n",
    "prod_url_base = 'http://bu-primo.hosted.exlibrisgroup.com:1701/PrimoWebServices/xservice/search/brief'\n",
    "#stage_url = <base url>\n",
    "stage_url_base = 'http://bu-primostage.hosted.exlibrisgroup.com:1701/PrimoWebServices/xservice/search/brief'\n",
    "query_Params1 = '?institution=BOSU&query=any,contains,'\n",
    "query_Params2 = '&indx=1&bulkSize=10&loc=local,scope,BOSU&loc=adaptor,primo_central_multiple_fe&onCampus=true&json=true'\n",
    "stage = True\n",
    "#production = True\n",
    "#num_results = 10\n",
    "#scope = \n",
    "\n",
    "# move to working directory\n",
    "# this is the path where we want files to reside\n",
    "#\n",
    "os.chdir('/Volumes/jwa_drive1/git/spst')"
   ]
  },
  {
   "cell_type": "markdown",
   "metadata": {},
   "source": [
    "##Define functions"
   ]
  },
  {
   "cell_type": "code",
   "execution_count": 3,
   "metadata": {
    "collapsed": true
   },
   "outputs": [],
   "source": [
    "def build_url(base_url,search_string):\n",
    "    url = base_url+query_Params1 + search_string.replace(' ','+') + query_Params2\n",
    "    return(url)\n",
    "    \n",
    "\n",
    "def parse_response(response):\n",
    "    response_dict = {}\n",
    "    # parse the response to return the data desired elements\n",
    "    response = json.loads(response.decode('utf8'))\n",
    "    # need to extract the desired elements and add them to a dict\n",
    "    return(response_dict)\n",
    "\n"
   ]
  },
  {
   "cell_type": "code",
   "execution_count": 4,
   "metadata": {
    "collapsed": true
   },
   "outputs": [],
   "source": [
    "# first we need to get a list of search strings\n",
    "# assign the path of the file that has the search strings to the variable f\n",
    "f = '/Volumes/jwa_drive1/git/spst/search_strings.csv'"
   ]
  },
  {
   "cell_type": "code",
   "execution_count": 5,
   "metadata": {
    "collapsed": false
   },
   "outputs": [],
   "source": [
    "# we open the file, read each line as a separate string, and remove the new line character\n",
    "search_strings = open(f).read().splitlines()"
   ]
  },
  {
   "cell_type": "code",
   "execution_count": 6,
   "metadata": {
    "collapsed": false
   },
   "outputs": [],
   "source": [
    "# create a DataFrame. Expand the columns to match the desired elements\n",
    "# to be returned by the function 'parse_response'\n",
    "df = pd.DataFrame(columns = ['SearchStr', 'Response'])\n",
    "for search_url in search_strings:\n",
    "    time.sleep(1)\n",
    "    search_url = stage_url_base+query_Params1 + search_url.replace(' ','+') + query_Params2\n",
    "    request = Request(search_url)\n",
    "    try:\n",
    "        response_body = urlopen(request).read()\n",
    "        df_response = pd.DataFrame([[search_url, parse_response(response_body)]],columns = ['SearchStr', 'Response'])\n",
    "        df = df.append(df_response, ignore_index = True)\n",
    "    except Exception as e:\n",
    "        print(e)"
   ]
  },
  {
   "cell_type": "code",
   "execution_count": 7,
   "metadata": {
    "collapsed": false
   },
   "outputs": [
    {
     "data": {
      "text/html": [
       "<div style=\"max-height:1000px;max-width:1500px;overflow:auto;\">\n",
       "<table border=\"1\" class=\"dataframe\">\n",
       "  <thead>\n",
       "    <tr style=\"text-align: right;\">\n",
       "      <th></th>\n",
       "      <th>SearchStr</th>\n",
       "      <th>Response</th>\n",
       "    </tr>\n",
       "  </thead>\n",
       "  <tbody>\n",
       "    <tr>\n",
       "      <th>0</th>\n",
       "      <td> http://bu-primostage.hosted.exlibrisgroup.com:...</td>\n",
       "      <td> {}</td>\n",
       "    </tr>\n",
       "    <tr>\n",
       "      <th>1</th>\n",
       "      <td> http://bu-primostage.hosted.exlibrisgroup.com:...</td>\n",
       "      <td> {}</td>\n",
       "    </tr>\n",
       "    <tr>\n",
       "      <th>2</th>\n",
       "      <td> http://bu-primostage.hosted.exlibrisgroup.com:...</td>\n",
       "      <td> {}</td>\n",
       "    </tr>\n",
       "    <tr>\n",
       "      <th>3</th>\n",
       "      <td> http://bu-primostage.hosted.exlibrisgroup.com:...</td>\n",
       "      <td> {}</td>\n",
       "    </tr>\n",
       "    <tr>\n",
       "      <th>4</th>\n",
       "      <td> http://bu-primostage.hosted.exlibrisgroup.com:...</td>\n",
       "      <td> {}</td>\n",
       "    </tr>\n",
       "  </tbody>\n",
       "</table>\n",
       "</div>"
      ],
      "text/plain": [
       "                                           SearchStr Response\n",
       "0  http://bu-primostage.hosted.exlibrisgroup.com:...       {}\n",
       "1  http://bu-primostage.hosted.exlibrisgroup.com:...       {}\n",
       "2  http://bu-primostage.hosted.exlibrisgroup.com:...       {}\n",
       "3  http://bu-primostage.hosted.exlibrisgroup.com:...       {}\n",
       "4  http://bu-primostage.hosted.exlibrisgroup.com:...       {}"
      ]
     },
     "execution_count": 7,
     "metadata": {},
     "output_type": "execute_result"
    }
   ],
   "source": [
    "# verify that the dataframe was created\n",
    "df.head()"
   ]
  },
  {
   "cell_type": "code",
   "execution_count": null,
   "metadata": {
    "collapsed": true
   },
   "outputs": [],
   "source": []
  }
 ],
 "metadata": {
  "kernelspec": {
   "display_name": "Python 3",
   "language": "python",
   "name": "python3"
  },
  "language_info": {
   "codemirror_mode": {
    "name": "ipython",
    "version": 3
   },
   "file_extension": ".py",
   "mimetype": "text/x-python",
   "name": "python",
   "nbconvert_exporter": "python",
   "pygments_lexer": "ipython3",
   "version": "3.3.5"
  }
 },
 "nbformat": 4,
 "nbformat_minor": 0
}
