{
 "cells": [
  {
   "cell_type": "markdown",
   "metadata": {},
   "source": [
    "#Scripted Primo Search Assessment Tool"
   ]
  },
  {
   "cell_type": "markdown",
   "metadata": {
    "collapsed": true
   },
   "source": [
    "Description: < Describe the purpose of the SPSAT>"
   ]
  },
  {
   "cell_type": "markdown",
   "metadata": {},
   "source": [
    "## Load required libraries"
   ]
  },
  {
   "cell_type": "code",
   "execution_count": 1,
   "metadata": {
    "collapsed": false
   },
   "outputs": [],
   "source": [
    "import numpy as np\n",
    "import pandas as pd\n",
    "import matplotlib as plt\n",
    "import glob\n",
    "import os\n",
    "import codecs\n",
    "import json\n",
    "import time\n",
    "from urllib.request import Request, urlopen\n",
    "from urllib.parse import urlencode, quote_plus"
   ]
  },
  {
   "cell_type": "markdown",
   "metadata": {},
   "source": [
    "##Define Some Variables"
   ]
  },
  {
   "cell_type": "code",
   "execution_count": 2,
   "metadata": {
    "collapsed": false
   },
   "outputs": [],
   "source": [
    "## URLs ##\n",
    "\n",
    "# prod_url = <base url>\n",
    "prod_url_base = 'http://bu-primo.hosted.exlibrisgroup.com:1701/PrimoWebServices/xservice/search/brief'\n",
    "# stage_url = <base url>\n",
    "stage_url_base = 'http://bu-primostage.hosted.exlibrisgroup.com:1701/PrimoWebServices/xservice/search/brief'\n",
    "\n",
    "## query params ##\n",
    "query_Params1 = '?institution=BOSU&query=any,contains,'\n",
    "query_Params2 = '&indx=1&bulkSize=10&loc=local,scope,BOSU&loc=adaptor,primo_central_multiple_fe&onCampus=true&json=true'\n",
    "stage = True\n",
    "#production = True\n",
    "#num_results = 10\n",
    "#scope = \n",
    "\n",
    "## file locations ## \n",
    "\n",
    "# move to working directory, this is the path where we want files to reside\n",
    "os.chdir('/Volumes/jwa_drive1/git/spst')\n",
    "\n",
    "# Input file (contains search strings)\n",
    "f = '/Volumes/jwa_drive1/git/spst/search_strings.csv'"
   ]
  },
  {
   "cell_type": "markdown",
   "metadata": {},
   "source": [
    "##Define functions"
   ]
  },
  {
   "cell_type": "code",
   "execution_count": 3,
   "metadata": {
    "collapsed": false
   },
   "outputs": [],
   "source": [
    "# build_url \n",
    "    # takes base_url and search_string, returns url properly formated for searching\n",
    "def build_url(base_url,search_string):\n",
    "    url = base_url+query_Params1 + search_string.replace(' ','+') + query_Params2\n",
    "    return(url)\n",
    "    \n",
    "# parse_response \n",
    "    # takes response (as json) from search, returns response_dict (dict of our responses)\n",
    "def parse_response(response):\n",
    "    response_dict = {}\n",
    "    # parse the response to return the data desired elements\n",
    "    response = json.loads(response.decode('utf8'))\n",
    "    # need to extract the desired elements and add them to a dict\n",
    "    response = response['SEGMENTS']\n",
    "    response = response['JAGROOT']\n",
    "    response = response['RESULT']\n",
    "    response_dict['facet'] = response['FACETLIST']\n",
    "    response_dict['docset'] = response['DOCSET']\n",
    "    doc = response_dict['docset']['DOC'][0]\n",
    "    return_dict = {}\n",
    "    return_dict['TotalHits'] = response['DOCSET']['@TOTALHITS']\n",
    "    return_dict['FirstHit'] = response['DOCSET']['@FIRSTHIT']\n",
    "    return_dict['LastHit'] = response['DOCSET']['@LASTHIT']\n",
    "    return_dict['Rank'] = doc['@RANK']\n",
    "    return_dict['SearchEngine'] = doc['@SEARCH_ENGINE']\n",
    "    return_dict['ResultNumber'] = doc['@NO']\n",
    "    return_dict['Bib'] = doc['PrimoNMBib']['record']\n",
    "\n",
    "    return(return_dict)\n",
    "\n",
    "def get_value(response, key):\n",
    "    # find or navigate response until the key is found\n",
    "    # then return the value associated with the key\n",
    "    value = 'hello world'\n",
    "    \n",
    "    return(value)\n",
    "    "
   ]
  },
  {
   "cell_type": "code",
   "execution_count": 4,
   "metadata": {
    "collapsed": false
   },
   "outputs": [],
   "source": [
    "# open input file, read each line as a separate string, and remove the new line character\n",
    "search_strings = open(f).read().splitlines()"
   ]
  },
  {
   "cell_type": "code",
   "execution_count": 5,
   "metadata": {
    "collapsed": false
   },
   "outputs": [],
   "source": [
    "# create a DataFrame. Expand the columns to match the desired elements\n",
    "# to be returned by the function 'parse_response'\n",
    "\n",
    "# Create a dataframe with\n",
    "# - column for search string \n",
    "# - column for response (returned from parse_response fuction)\n",
    "columns = ['FirstHit', 'LastHit', 'TotalHits','ResultNumber','Rank','SearchEngine','BibKeys','PrimoNMBib']\n",
    "df = pd.DataFrame(columns = columns)\n",
    "\n",
    "\n",
    "# Loop through search_strings, execute search, ... [to be done?]\n",
    "for search_string in search_strings:\n",
    "    time.sleep(1)\n",
    "    \n",
    "    \n",
    "    # can we use build_url here? \n",
    "    #search_url = stage_url_base+query_Params1 + search_url.replace(' ','+') + query_Params2\n",
    "    search_url = build_url(prod_url_base,search_string)\n",
    "    request = Request(search_url)\n",
    "    # maybe we could do ... \n",
    "    # request = Request(build_url(stage_url_base,search_url))\n",
    "    \n",
    "    \n",
    "    try:\n",
    "        response_body = urlopen(request).read() # reads request into response_body var\n",
    "        d = parse_response(response_body)\n",
    "        df = df.append(d, ignore_index=True)\n",
    "        # second dataframe? \n",
    "        #df_response = pd.DataFrame([[search_url, parse_response(response_body)]],columns = ['SearchStr', 'Response'])\n",
    "        #df = df.append(df_response, ignore_index = True)\n",
    "    #prints errors \n",
    "    except Exception as e:\n",
    "        print(e)"
   ]
  },
  {
   "cell_type": "code",
   "execution_count": 7,
   "metadata": {
    "collapsed": false
   },
   "outputs": [
    {
     "data": {
      "text/html": [
       "<div style=\"max-height:1000px;max-width:1500px;overflow:auto;\">\n",
       "<table border=\"1\" class=\"dataframe\">\n",
       "  <thead>\n",
       "    <tr style=\"text-align: right;\">\n",
       "      <th></th>\n",
       "      <th>FirstHit</th>\n",
       "      <th>LastHit</th>\n",
       "      <th>TotalHits</th>\n",
       "      <th>ResultNumber</th>\n",
       "      <th>Rank</th>\n",
       "      <th>SearchEngine</th>\n",
       "      <th>BibKeys</th>\n",
       "      <th>PrimoNMBib</th>\n",
       "      <th>Bib</th>\n",
       "    </tr>\n",
       "  </thead>\n",
       "  <tbody>\n",
       "    <tr>\n",
       "      <th>0</th>\n",
       "      <td>1</td>\n",
       "      <td>10</td>\n",
       "      <td>2964097</td>\n",
       "      <td>1</td>\n",
       "      <td>0.07</td>\n",
       "      <td>primo_central_multiple_fe</td>\n",
       "      <td>NaN</td>\n",
       "      <td>NaN</td>\n",
       "      <td>{'control': {'sourcerecordid': '1645937272', '...</td>\n",
       "    </tr>\n",
       "    <tr>\n",
       "      <th>1</th>\n",
       "      <td>1</td>\n",
       "      <td>10</td>\n",
       "      <td>2621895</td>\n",
       "      <td>1</td>\n",
       "      <td>0.07</td>\n",
       "      <td>primo_central_multiple_fe</td>\n",
       "      <td>NaN</td>\n",
       "      <td>NaN</td>\n",
       "      <td>{'control': {'sourcerecordid': '10.1037/a00356...</td>\n",
       "    </tr>\n",
       "    <tr>\n",
       "      <th>2</th>\n",
       "      <td>1</td>\n",
       "      <td>10</td>\n",
       "      <td>2678773</td>\n",
       "      <td>1</td>\n",
       "      <td>0.07000001</td>\n",
       "      <td>primo_central_multiple_fe</td>\n",
       "      <td>NaN</td>\n",
       "      <td>NaN</td>\n",
       "      <td>{'control': {'sourceformat': 'XML', 'sourcerec...</td>\n",
       "    </tr>\n",
       "    <tr>\n",
       "      <th>3</th>\n",
       "      <td>1</td>\n",
       "      <td>10</td>\n",
       "      <td>2717055</td>\n",
       "      <td>1</td>\n",
       "      <td>0.07</td>\n",
       "      <td>primo_central_multiple_fe</td>\n",
       "      <td>NaN</td>\n",
       "      <td>NaN</td>\n",
       "      <td>{'control': {'sourceformat': 'XML', 'sourcerec...</td>\n",
       "    </tr>\n",
       "    <tr>\n",
       "      <th>4</th>\n",
       "      <td>1</td>\n",
       "      <td>10</td>\n",
       "      <td>2620589</td>\n",
       "      <td>1</td>\n",
       "      <td>0.0155665865</td>\n",
       "      <td>primo_central_multiple_fe</td>\n",
       "      <td>NaN</td>\n",
       "      <td>NaN</td>\n",
       "      <td>{'control': {'sourceformat': 'XML', 'sourcerec...</td>\n",
       "    </tr>\n",
       "  </tbody>\n",
       "</table>\n",
       "</div>"
      ],
      "text/plain": [
       "  FirstHit LastHit TotalHits ResultNumber          Rank  \\\n",
       "0        1      10   2964097            1          0.07   \n",
       "1        1      10   2621895            1          0.07   \n",
       "2        1      10   2678773            1    0.07000001   \n",
       "3        1      10   2717055            1          0.07   \n",
       "4        1      10   2620589            1  0.0155665865   \n",
       "\n",
       "                SearchEngine BibKeys PrimoNMBib  \\\n",
       "0  primo_central_multiple_fe     NaN        NaN   \n",
       "1  primo_central_multiple_fe     NaN        NaN   \n",
       "2  primo_central_multiple_fe     NaN        NaN   \n",
       "3  primo_central_multiple_fe     NaN        NaN   \n",
       "4  primo_central_multiple_fe     NaN        NaN   \n",
       "\n",
       "                                                 Bib  \n",
       "0  {'control': {'sourcerecordid': '1645937272', '...  \n",
       "1  {'control': {'sourcerecordid': '10.1037/a00356...  \n",
       "2  {'control': {'sourceformat': 'XML', 'sourcerec...  \n",
       "3  {'control': {'sourceformat': 'XML', 'sourcerec...  \n",
       "4  {'control': {'sourceformat': 'XML', 'sourcerec...  "
      ]
     },
     "execution_count": 7,
     "metadata": {},
     "output_type": "execute_result"
    }
   ],
   "source": [
    "# verify dataframe\n",
    "df.head()"
   ]
  },
  {
   "cell_type": "code",
   "execution_count": 6,
   "metadata": {
    "collapsed": false
   },
   "outputs": [
    {
     "name": "stdout",
     "output_type": "stream",
     "text": [
      "2964097\n",
      "1\n",
      "10\n",
      "0.07\n",
      "primo_central_multiple_fe\n",
      "1\n",
      "{'control': {'sourcerecordid': '1645937272', 'sourceid': 'proquest', 'sourcesystem': 'Other', 'recordid': 'TN_proquest1645937272'}, 'links': {'linktorsrc': '$$Uhttp://search.proquest.com/docview/1645937272/$$EView_record_in_ProQuest_(subscribers_only)', 'openurl': '$$Topenurl_article', 'openurlfulltext': '$$Topenurlfull_article'}, 'sort': {'author': 'Erath, Lex', 'creationdate': '20141208', 'title': 'Murder', 'lso01': '20141208'}, 'delivery': {'delcategory': 'Remote Search Resource', 'fulltext': 'fulltext'}, 'facets': {'frbrgroupid': '7110366565547982891', 'creationdate': '2014', 'topic': 'Torture', 'creatorcontrib': 'Erath, Lex', 'frbrtype': '6', 'jtitle': 'University Wire', 'rsrctype': 'newspaper_articles', 'language': 'eng', 'prefilter': 'newspaper_articles', 'collection': ['ProQuest Education Journals', 'ProQuest Central', 'ProQuest Social Sciences Premium Collection']}, 'search': {'scope': ['1006080', '1006454', '1006769', '1006907', '1007161', '1007945', '1007989', '1007990', '1007991', '1007992', '1007993', '1007994', '1007995', '1008503', '10000039', '10000062', '10000118', '10000164', '10000184', '10000210', '10000213', 'proquest'], 'enddate': '20141208', 'general': ['English', 'Uloop, Inc.', 'ProQuest Education Journals', 'ProQuest Central', 'ProQuest Social Sciences Premium Collection'], 'sourceid': 'proquest', 'description': \"\\xa0 [...]you can see why the discovery of her preferred murdering style is especially alarming to me, when she actually can trap me in a tiny room until I die. Since I have strong self-preserving instincts I will of course do everything I can to stay in 3's good graces, but I'm also composing my last will and testament and choosing a casket, just to be safe.\", 'startdate': '20141208', 'subject': 'Torture', 'rsrctype': 'newspaper_article', 'creationdate': '2014', 'addtitle': 'University Wire', 'searchscope': ['1006080', '1006454', '1006769', '1006907', '1007161', '1007945', '1007989', '1007990', '1007991', '1007992', '1007993', '1007994', '1007995', '1008503', '10000039', '10000062', '10000118', '10000164', '10000184', '10000210', '10000213', 'proquest'], 'title': 'Murder', 'creatorcontrib': 'Erath, Lex', 'recordid': 'proquest1645937272'}, 'addata': {'aulast': 'Erath', 'atitle': 'Murder', 'au': 'Erath, Lex', 'risdate': '20141208', 'genre': 'article', 'date': '20141208', 'jtitle': 'University Wire', 'pub': 'Uloop, Inc.', 'ristype': 'GEN', 'abstract': \"\\xa0 [...]you can see why the discovery of her preferred murdering style is especially alarming to me, when she actually can trap me in a tiny room until I die. Since I have strong self-preserving instincts I will of course do everything I can to stay in 3's good graces, but I'm also composing my last will and testament and choosing a casket, just to be safe.\", 'cop': 'Carlsbad', 'format': 'journal', 'aufirst': 'Lex', 'url': 'http://search.proquest.com/docview/1645937272/'}, 'display': {'source': ['© ProQuest LLC All rights reserved<img src=\"http://exlibris-pub.s3.amazonaws.com/PQ_Logo.jpg\" style=\"vertical-align:middle;margin-left:7px\">', 'ProQuest Education Journals', 'ProQuest Central', 'ProQuest Social Sciences Premium Collection'], 'ispartof': 'University Wire, Dec 8, 2014', 'description': \"\\xa0 [...]you can see why the discovery of her preferred murdering style is especially alarming to me, when she actually can trap me in a tiny room until I die. Since I have strong self-preserving instincts I will of course do everything I can to stay in 3's good graces, but I'm also composing my last will and testament and choosing a casket, just to be safe.\", 'creator': 'Erath, Lex', 'type': 'newspaper_article', 'title': 'Murder', 'language': 'eng', 'subject': 'Torture'}}\n",
      "\n",
      "2621895\n",
      "1\n",
      "10\n",
      "0.07\n",
      "primo_central_multiple_fe\n",
      "1\n",
      "{'control': {'sourcerecordid': '10.1037/a0035623', 'sourceid': 'apa_articles', 'sourcesystem': 'Other', 'recordid': 'TN_apa_articles10.1037/a0035623'}, 'links': {'backlink': '$$Uhttp://dx.doi.org/10.1037/a0035623$$EView_this_record_in_PsycARTICLES', 'openurl': '$$Topenurl_article', 'openurlfulltext': '$$Topenurlfull_article'}, 'sort': {'author': 'Mccracken, Lance M. ; Vowles, Kevin E.', 'creationdate': '20140203', 'title': 'Acceptance and Commitment Therapy and Mindfulness for Chronic Pain'}, 'delivery': {'delcategory': 'Remote Search Resource', 'fulltext': 'fulltext'}, 'facets': {'frbrgroupid': '7355387267572541712', 'creationdate': '2014', 'topic': ['Chronic Pain', 'Cognitive Behavior Therapy', 'Acceptance And Commitment Therapy', 'Mindfulness'], 'creatorcontrib': ['Mccracken, Lance M.', 'Vowles, Kevin E.', 'Anderson, Norman B.'], 'frbrtype': '5', 'jtitle': 'American Psychologist', 'rsrctype': 'articles', 'language': 'eng', 'prefilter': 'articles', 'collection': 'PsycARTICLES (American Psychological Association)'}, 'search': {'scope': 'apa_articles', 'general': ['English', '10.1037/a0035623', 'PsycARTICLES (American Psychological Association)'], 'sourceid': 'apa_articles', 'description': 'Over 30 years ago, treatments based broadly within cognitive behavioral therapy (CBT) began a rise in prominence that eventually culminated in their widespread adoption in chronic pain treatment settings. Research into CBT has proliferated and continues today, addressing questions very similar to those addressed at the start of this enterprise. However, just as it is designed to do, the process of conducting research and analyzing evidence reveals gaps in our understanding of and shortcomings within this treatment approach. A need for development seems clear. This article reviews the progress of CBT in the treatment of chronic pain and the challenges now faced by researchers and clinicians interested in meeting this need for development. It then focuses in greater detail on areas of development within CBT, namely acceptance and commitment therapy (ACT) and mindfulness-based approaches, areas that may hold potential for future progress. Three specific recommendations are offered here to achieve this progress.', 'subject': ['Chronic Pain', 'Cognitive Behavior Therapy', 'Acceptance And Commitment Therapy', 'Mindfulness'], 'rsrctype': 'article', 'creationdate': '2014', 'addtitle': 'American Psychologist', 'issn': ['0003-066X', '0003066X', '1935-990X', '1935990X'], 'title': 'Acceptance and Commitment Therapy and Mindfulness for Chronic Pain', 'searchscope': 'apa_articles', 'creatorcontrib': ['Mccracken, Lance M.', 'Vowles, Kevin E.', 'Anderson, Norman B. (editor)'], 'recordid': 'apa_articles10.1037/a0035623'}, 'addata': {'epage': '187', 'aulast': ['McCracken', 'Vowles'], 'atitle': 'Acceptance and Commitment Therapy and Mindfulness for Chronic Pain', 'au': ['Mccracken, Lance M.', 'Vowles, Kevin E.'], 'risdate': '20140203', 'format': 'journal', 'ristype': 'JOUR', 'date': '20140203', 'volume': '69', 'jtitle': 'American Psychologist', 'doi': '10.1037/a0035623', 'addau': 'Anderson, Norman B. (editor)', 'issn': '0003-066X', 'abstract': 'Over 30 years ago, treatments based broadly within cognitive behavioral therapy (CBT) began a rise in prominence that eventually culminated in their widespread adoption in chronic pain treatment settings. Research into CBT has proliferated and continues today, addressing questions very similar to those addressed at the start of this enterprise. However, just as it is designed to do, the process of conducting research and analyzing evidence reveals gaps in our understanding of and shortcomings within this treatment approach. A need for development seems clear. This article reviews the progress of CBT in the treatment of chronic pain and the challenges now faced by researchers and clinicians interested in meeting this need for development. It then focuses in greater detail on areas of development within CBT, namely acceptance and commitment therapy (ACT) and mindfulness-based approaches, areas that may hold potential for future progress. Three specific recommendations are offered here to achieve this progress.', 'eissn': '1935-990X', 'genre': 'article', 'issue': '2', 'spage': '178', 'pages': ['178', '-187'], 'aufirst': ['Lance M.', 'Kevin E.'], 'pub': 'American Psychological Association'}, 'display': {'source': 'PsycARTICLES (American Psychological Association)<img src=\"http://exlibris-pub.s3.amazonaws.com/apaLogo2_134x31.jpg\" style=\"vertical-align:middle;margin-left:7px\">', 'ispartof': 'American Psychologist, 2014, Vol.69(2), pp.178-187', 'description': 'Over 30 years ago, treatments based broadly within cognitive behavioral therapy (CBT) began a rise in prominence that eventually culminated in their widespread adoption in chronic pain treatment settings. Research into CBT has proliferated and continues today, addressing questions very similar to those addressed at the start of this enterprise. However, just as it is designed to do, the process of conducting research and analyzing evidence reveals gaps in our understanding of and shortcomings within this treatment approach. A need for development seems clear. This article reviews the progress of CBT in the treatment of chronic pain and the challenges now faced by researchers and clinicians interested in meeting this need for development. It then focuses in greater detail on areas of development within CBT, namely acceptance and commitment therapy (ACT) and mindfulness-based approaches, areas that may hold potential for future progress. Three specific recommendations are offered here to achieve this progress.', 'version': '7', 'creator': 'Mccracken, Lance M. ; Vowles, Kevin E.', 'type': 'article', 'contributor': 'Anderson, Norman B. (editor)', 'title': 'Acceptance and Commitment Therapy and Mindfulness for Chronic Pain', 'identifier': '<b>ISSN: </b>0003-066X ; <b>E-ISSN: </b>1935-990X ; <b>DOI: </b>10.1037/a0035623', 'language': 'eng', 'subject': 'Chronic Pain ; Cognitive Behavior Therapy ; Acceptance And Commitment Therapy ; Mindfulness'}}\n",
      "\n",
      "2678773\n",
      "1\n",
      "10\n",
      "0.07000001\n",
      "primo_central_multiple_fe\n",
      "1\n",
      "{'control': {'sourceformat': 'XML', 'sourcerecordid': '10.1300/J082v27n03_07', 'sourceid': 'tayfranc', 'sourcesystem': 'Other', 'recordid': 'TN_tayfranc10.1300/J082v27n03_07'}, 'links': {'addlink': '$$Uhttps://exlibris-pub.s3.amazonaws.com/aboutTaylorFrancis.html$$EView_Taylor_&_Francis_Group_Copyright_Statement', 'openurl': '$$Topenurl_article', 'openurlfulltext': '$$Topenurlfull_article'}, 'sort': {'author': 'Dean, Craig R.', 'creationdate': '19941103', 'title': 'Gay Marriage:: A Civil Right'}, 'delivery': {'delcategory': 'Remote Search Resource', 'fulltext': 'fulltext'}, 'facets': {'frbrgroupid': '1379416587881777060', 'creationdate': '1994', 'prefilter': 'articles', 'frbrtype': '5', 'jtitle': 'Journal of Homosexuality', 'collection': 'Taylor & Francis Online - Journals', 'creatorcontrib': 'Dean, Craig R.', 'rsrctype': 'articles'}, 'search': {'scope': ['tayfranc', 'taylor_francis'], 'general': ['10.1300/J082v27n03_07', 'Journal of Homosexuality, Vol. 27, No. 3-4, 1994, pp. 111–115', 'Taylor & Francis Group'], 'sourceid': 'tayfranc', 'description': \"This article describes the author's efforts to secure marriage rights for same-sex couples in the District of Columbia. The importance of such rights are described in terms of their benefits to partners in areas such as inheritance, taxation, and benefit to society. It is argued that refusal to recognize same-sex marriages is not justified by statute and that discrimination of the basis of sex violates the District's Human Rights Act. Certain prior court cases, moreover, affirm the moral logic for extending marriage rights to same-sex couples.\", 'rsrctype': 'article', 'creationdate': '1994', 'addtitle': 'Journal of Homosexuality', 'issn': ['0091-8369', '00918369', '1540-3602', '15403602'], 'searchscope': ['tayfranc', 'taylor_francis'], 'title': 'Gay Marriage:', 'creatorcontrib': 'Dean, Craig R', 'recordid': 'tayfranc10.1300/J082v27n03_07'}, 'addata': {'epage': '115', 'aulast': 'Dean', 'atitle': 'Gay Marriage:', 'au': 'Dean, Craig R.', 'genre': 'article', 'date': '19941103', 'volume': '27', 'jtitle': 'Journal of Homosexuality', 'doi': '10.1300/J082v27n03_07', 'pub': 'Taylor & Francis Group', 'issn': '0091-8369', 'abstract': \"This article describes the author's efforts to secure marriage rights for same-sex couples in the District of Columbia. The importance of such rights are described in terms of their benefits to partners in areas such as inheritance, taxation, and benefit to society. It is argued that refusal to recognize same-sex marriages is not justified by statute and that discrimination of the basis of sex violates the District's Human Rights Act. Certain prior court cases, moreover, affirm the moral logic for extending marriage rights to same-sex couples.\", 'eissn': '1540-3602', 'issue': '3-4', 'ristype': 'JOUR', 'spage': '111', 'format': 'journal', 'aufirst': 'Craig R.'}, 'display': {'publisher': 'Taylor & Francis Group', 'source': 'Routledge, Taylor & Francis Group<img src=\"http://exlibris-pub.s3.amazonaws.com/Routledge_RGB.gif\" style=\"vertical-align:middle;margin-left:7px\">', 'ispartof': 'Journal of Homosexuality, 1994, Vol.27(3-4), p.111-115', 'description': \"This article describes the author's efforts to secure marriage rights for same-sex couples in the District of Columbia. The importance of such rights are described in terms of their benefits to partners in areas such as inheritance, taxation, and benefit to society. It is argued that refusal to recognize same-sex marriages is not justified by statute and that discrimination of the basis of sex violates the District's Human Rights Act. Certain prior court cases, moreover, affirm the moral logic for extending marriage rights to same-sex couples.\", 'version': '8', 'creator': 'Dean, Craig R.', 'type': 'article', 'title': 'Gay Marriage:: A Civil Right', 'identifier': '<b>ISSN: </b>0091-8369 ; <b>E-ISSN: </b>1540-3602 ; <b>DOI: </b>10.1300/J082v27n03_07'}}\n",
      "\n",
      "2717055\n",
      "1\n",
      "10\n",
      "0.07\n",
      "primo_central_multiple_fe\n",
      "1\n",
      "{'control': {'sourceformat': 'XML', 'sourcerecordid': '000333236000006', 'sourceid': 'wos', 'sourcesystem': 'Other', 'recordid': 'TN_wos000333236000006'}, 'links': {'thumbnail': ['$$TPCamazon_thumb', '$$TPCgoogle_thumb'], 'backlink': '$$Uhttp://gateway.webofknowledge.com/gateway/Gateway.cgi?&GWVersion=2&SrcAuth=ExLibris&SrcApp=Primo1&DestLinkType=FullRecord&KeyUT=000333236000006&DestApp=WOS$$EView_this_record_in_Web_of_Science<small><sup>SM</sup></small>', 'openurl': '$$Topenurl_article', 'openurlfulltext': '$$Topenurlfull_article'}, 'sort': {'author': 'Walker, K ; Schlosser, F ; Deephouse, DL', 'creationdate': '20140400', 'title': 'Organizational Ingenuity and the Paradox of Embedded Agency: The Case of the Embryonic Ontario Solar Energy Industry', 'lso01': '20140400'}, 'delivery': {'delcategory': 'Remote Search Resource', 'fulltext': 'fulltext'}, 'facets': {'frbrgroupid': '1613223182417754237', 'creationdate': '2014', 'toplevel': 'peer_reviewed', 'prefilter': 'articles', 'frbrtype': '6', 'jtitle': 'Organization Studies', 'rsrctype': 'articles', 'language': 'eng', 'creatorcontrib': ['Walker, K', 'Schlosser, F', 'Deephouse, DL'], 'collection': 'Social Sciences Citation Index (Web of Science)'}, 'search': {'scope': ['WOS_SSCI', 'WOS_SSCI(2014)', 'wos'], 'enddate': '20140431', 'general': ['English', '10.1177/0170840613517599', 'Web of Science<img src=\"http://exlibris-pub.s3.amazonaws.com/fromwos-v2.jpg\" style=\"vertical-align:middle;margin-left:7px\">', 'SAGE PUBLICATIONS LTD', 'Social Sciences Citation Index (Web of Science)'], 'sourceid': 'wos', 'description': 'We examine organizational ingenuity within the paradox of embedded agency where organizational stakeholders are constrained in their behaviors by institutions, yet also influence and change these institutions. In this study organizational ingenuity represents the agency component and institutional constraints the embedded component. We build theory about ingenuity from a four-year case study of the embryonic Ontario solar industry. There were two major institutional constraints, limited grid access and political uncertainty. These led to four ingenuity strategies that emerged at different times and levels of analysis that challenged, complied with, or escaped the constraints. We combine these findings to develop a process model of the emergence of ingenuity in this embryonic industry. Lastly, we find that extending legitimacy to an ingenuity strategy is necessary for its success.', 'searchscope': ['WOS_SSCI', 'WOS_SSCI(2014)', 'wos'], 'alttitle': 'Organ. Stud.', 'startdate': '20140401', 'subject': ['institutional entrepreneurship', 'information-technology', 'legitimacy', 'strategies', 'management', 'transformation', 'construction', 'isomorphism', 'environment', 'challenges', 'ingenuity', 'institutional theory', 'institutional constraints', 'paradox of embedded agency', 'solar energy industry'], 'rsrctype': 'article', 'creationdate': '2014', 'addtitle': 'ORGANIZATION STUDIES', 'issn': ['01708406', '0170-8406'], 'citation': 'pf 613 pt 634 vol 35 issue 4', 'title': 'Organizational Ingenuity and the Paradox of Embedded Agency: The Case of the Embryonic Ontario Solar Energy Industry', 'recordtype': 'article', 'creatorcontrib': ['Walker, K', 'Schlosser, F', 'Deephouse, DL'], 'recordid': 'wos000333236000006'}, 'addata': {'epage': '634', 'aulast': ['Walker', 'Schlosser', 'Deephouse'], 'atitle': 'Organizational Ingenuity and the Paradox of Embedded Agency: The Case of the Embryonic Ontario Solar Energy Industry', 'au': ['Walker, K', 'Schlosser, F', 'Deephouse, DL'], 'risdate': '201404', 'genre': 'article', 'date': '201404', 'doi': '10.1177/0170840613517599', 'volume': '35', 'jtitle': 'Organization Studies', 'addtitle': 'Organ. Stud.', 'pub': 'SAGE PUBLICATIONS LTD', 'ristype': 'JOUR', 'issn': '0170-8406', 'issue': '4', 'spage': '613', 'format': 'journal', 'pages': '613-634', 'aufirst': ['Kent', 'Francine', 'David L.', 'K', 'F', 'DL']}, 'display': {'source': 'Web of Science<img src=\"http://exlibris-pub.s3.amazonaws.com/fromwos-v2.jpg\" style=\"vertical-align:middle;margin-left:7px\">', 'ispartof': 'Organization Studies, 2014 Apr, Vol.35(4), pp.613-634', 'lds50': 'peer_reviewed', 'creator': 'Walker, K ; Schlosser, F ; Deephouse, DL', 'type': 'article', 'title': 'Organizational Ingenuity and the Paradox of Embedded Agency: The Case of the Embryonic Ontario Solar Energy Industry', 'identifier': '<b>ISSN: </b>0170-8406 ; <b>DOI: </b> 10.1177/0170840613517599', 'language': 'English'}}\n",
      "\n",
      "2620589\n",
      "1\n",
      "10\n",
      "0.0155665865\n",
      "primo_central_multiple_fe\n",
      "1\n",
      "{'control': {'sourceformat': 'XML', 'sourcerecordid': '10.1080/01419870.2015.1016069', 'sourceid': 'tayfranc', 'sourcesystem': 'Other', 'recordid': 'TN_tayfranc10.1080/01419870.2015.1016069'}, 'links': {'backlink': '$$Uhttp://dx.doi.org/10.1080/01419870.2015.1016069$$EView_this_record_in_Taylor_&_Francis', 'addlink': '$$Uhttps://exlibris-pub.s3.amazonaws.com/aboutTaylorFrancis.html$$EView_Taylor_&_Francis_Group_Copyright_Statement', 'openurl': '$$Topenurl_article', 'openurlfulltext': '$$Topenurlfull_article'}, 'sort': {'author': 'Fox, Cybelle', 'creationdate': '20150621', 'title': 'What counts as racist immigration policy?', 'lso01': '20150621'}, 'delivery': {'delcategory': 'Remote Search Resource', 'fulltext': 'fulltext'}, 'facets': {'frbrgroupid': '8579217324670666038', 'creationdate': '2015', 'topic': ['Race', 'Ethnicity', 'Imigration Policy', 'Comparative Sociology', 'Political Sociology', 'Historical Sociology'], 'creatorcontrib': 'Fox, Cybelle', 'frbrtype': '5', 'jtitle': 'Ethnic and Racial Studies', 'rsrctype': 'articles', 'language': 'eng', 'prefilter': 'articles', 'collection': 'Taylor & Francis Online - Journals'}, 'search': {'scope': ['tayfranc', 'taylor_francis'], 'enddate': '20150621', 'general': ['10.1080/01419870.2015.1016069', 'Routledge', 'English', 'Routledge (Taylor & Francis Group)<img src=\"http://exlibris-pub.s3.amazonaws.com/Routledge_RGB.gif\" style=\"vertical-align:middle;margin-left:7px\">', 'Taylor & Francis Online - Journals'], 'sourceid': 'tayfranc', 'description': 'Culling the MassesCulling the Masses Culling the Masses is a rich, methodologically ambitious book, which sheds much needed light on the factors that influence the adoption and repeal of racist immigration policies across the Americas. Contrary to previous accounts that suggest that the end of racial selection in immigration policy began as a domestic issue in the United States and Australia and then spread elsewhere, FitzGerald and Cook-Martín “find that geopolitical factors were the main drivers of the demise of racial selection.” The sustained attention to the international forces that shape domestic immigration policy—and the means through which they do so—is an invaluable contribution of this excellent book. Culling the Masses also demonstrates that democracy and racist immigration laws not only co-existed comfortably with each other, they have also been causally connected. Somewhat less convincing, however, is the assertion that liberal democracies essentially abandoned racist immigration laws at the end of the 1960s.', 'startdate': '20150621', 'subject': ['Race', 'Ethnicity', 'Imigration Policy', 'Comparative Sociology', 'Political Sociology', 'Historical Sociology'], 'rsrctype': 'article', 'creationdate': '2015', 'addtitle': 'Ethnic and Racial Studies', 'issn': ['0141-9870', '01419870', '1466-4356', '14664356'], 'citation': 'pf 1286 pt 1291 vol 38 issue 8', 'title': 'What counts as racist immigration policy?', 'searchscope': ['tayfranc', 'taylor_francis'], 'creatorcontrib': 'Fox, Cybelle', 'recordid': 'tayfranc10.1080/01419870.2015.1016069'}, 'addata': {'epage': '1291', 'format': 'journal', 'aulast': 'Fox', 'atitle': 'What counts as racist immigration policy?', 'au': 'Fox, Cybelle', 'jtitle': 'Ethnic and Racial Studies', 'doi': '10.1080/01419870.2015.1016069', 'pub': 'Routledge', 'ristype': 'JOUR', 'eissn': '1466-4356', 'issue': '8', 'spage': '1286', 'auinit1': 'C', 'risdate': '20150621', 'genre': 'article', 'date': '20150621', 'volume': '38', 'issn': '0141-9870', 'abstract': 'Culling the MassesCulling the Masses Culling the Masses is a rich, methodologically ambitious book, which sheds much needed light on the factors that influence the adoption and repeal of racist immigration policies across the Americas. Contrary to previous accounts that suggest that the end of racial selection in immigration policy began as a domestic issue in the United States and Australia and then spread elsewhere, FitzGerald and Cook-Martín “find that geopolitical factors were the main drivers of the demise of racial selection.” The sustained attention to the international forces that shape domestic immigration policy—and the means through which they do so—is an invaluable contribution of this excellent book. Culling the Masses also demonstrates that democracy and racist immigration laws not only co-existed comfortably with each other, they have also been causally connected. Somewhat less convincing, however, is the assertion that liberal democracies essentially abandoned racist immigration laws at the end of the 1960s.', 'pages': '1286-1291', 'auinit': 'C', 'aufirst': 'Cybelle'}, 'display': {'publisher': 'Routledge', 'source': 'Routledge (Taylor & Francis Group)<img src=\"http://exlibris-pub.s3.amazonaws.com/Routledge_RGB.gif\" style=\"vertical-align:middle;margin-left:7px\">', 'ispartof': 'Ethnic and Racial Studies, 21 June 2015, Vol.38(8), p.1286-1291', 'description': 'Culling the Masses is a rich, methodologically ambitious book, which sheds much needed light on the factors that influence the adoption and repeal of racist immigration policies across the Americas. Contrary to previous accounts that suggest that the end of racial selection in immigration policy began as a domestic issue in the United States and Australia and then spread elsewhere, FitzGerald and Cook-Martín “find that geopolitical factors were the main drivers of the demise of racial selection.” The sustained attention to the international forces that shape domestic immigration policy—and the means through which they do so—is an invaluable contribution of this excellent book. Culling the Masses also demonstrates that democracy and racist immigration laws not only co-existed comfortably with each other, they have also been causally connected. Somewhat less convincing, however, is the assertion that liberal democracies essentially abandoned racist immigration laws at the end of the 1960s.', 'version': '4', 'creator': 'Fox, Cybelle', 'type': 'article', 'title': 'What counts as racist immigration policy?', 'identifier': '<b>ISSN: </b>0141-9870 ; <b>E-ISSN: </b>1466-4356 ; <b>DOI: </b>10.1080/01419870.2015.1016069', 'language': 'eng', 'subject': 'Race ; Ethnicity ; Imigration Policy ; Comparative Sociology ; Political Sociology ; Historical Sociology'}}\n",
      "\n",
      "2623247\n",
      "1\n",
      "10\n",
      "1.4063319E-5\n",
      "primo_central_multiple_fe\n",
      "1\n",
      "{'control': {'sourcerecordid': '1625577341', 'sourceid': 'proquest', 'sourcesystem': 'Other', 'recordid': 'TN_proquest1625577341'}, 'links': {'linktorsrc': '$$Uhttp://search.proquest.com/docview/1625577341/$$EView_record_in_ProQuest_(subscribers_only)', 'openurl': '$$Topenurl_article', 'openurlfulltext': '$$Topenurlfull_article'}, 'sort': {'author': 'Caulkins, Jonathan ; Kasunic, Anna ; Kleiman, Mark ; Lee, Michael', 'creationdate': '20140701', 'title': 'Understanding drug legalization', 'lso01': '20140701'}, 'delivery': {'delcategory': 'Remote Search Resource', 'fulltext': 'fulltext'}, 'facets': {'frbrgroupid': '6630464420538769784', 'creationdate': '2014', 'topic': ['United States–Us', 'Drug Use', 'Teenagers', 'Human Rights', 'Bans', 'Tobacco', 'Cocaine', 'Marijuana'], 'creatorcontrib': ['Caulkins, Jonathan', 'Kasunic, Anna', 'Kleiman, Mark', 'Lee, Michael'], 'frbrtype': '6', 'jtitle': 'International Public Health Journal', 'rsrctype': 'articles', 'language': 'eng', 'prefilter': 'articles', 'collection': ['ProQuest Social Science Journals', 'ProQuest Public Health', 'ProQuest Research Library', 'ProQuest Biological Science Collection', 'ProQuest Central', 'ProQuest Environmental Science Collection', 'ProQuest Natural Science Collection', 'ProQuest SciTech Collection', 'ProQuest Social Sciences Premium Collection']}, 'search': {'scope': ['1006072', '1006080', '1006175', '1006759', '1006766', '1006907', '1006993', '1007048', '1007200', '1007617', '1007856', '1007899', '1007945', '1007991', '1008005', '1008045', '1008046', '1008886', '10000025', '10000034', '10000038', '10000039', '10000043', '10000050', '10000062', '10000064', '10000118', '10000120', '10000164', '10000184', 'proquest'], 'enddate': '20140701', 'general': ['English', 'Nova Science Publishers, Inc.', 'ProQuest Social Science Journals', 'ProQuest Public Health', 'ProQuest Research Library', 'ProQuest Biological Science Collection', 'ProQuest Central', 'ProQuest Environmental Science Collection', 'ProQuest Natural Science Collection', 'ProQuest SciTech Collection', 'ProQuest Social Sciences Premium Collection'], 'sourceid': 'proquest', 'description': '\\xa0 The immense harms that drugs (illicit drugs, alcohol, and tobacco) cause both users and nonusers have prompted many governments to impose strictly enforced bans on production and possession of some of these substances. Such bans can help constrain drug use. However, prohibition also causes its own harms, including harms from black market crime and violence. Drug legalization would ameliorate the black-market harms, but increase some other harms by decreasing price and thus, increasing use and dependence. This paper gives readers a framework for understanding the pros and cons of legalization, and some of its complexities, including the differences between state and national level legalization, the monetary and human costs of regulation and enforcement, and effects of different policies on youth. It also discusses \"middle path\" policy options, such as decriminalization, policy changes under prohibition, and harm reduction. The aim is to peel away the rhetoric of drug legalization/prohibition debate, not to argue for any specific policy.', 'startdate': '20140701', 'subject': ['United States–Us', 'Drug Use', 'Teenagers', 'Human Rights', 'Bans', 'Tobacco', 'Cocaine', 'Marijuana'], 'rsrctype': 'article', 'creationdate': '2014', 'addtitle': 'International Public Health Journal', 'issn': ['19474989', '1947-4989'], 'citation': 'pf 283 pt 294 vol 6 issue 3', 'title': 'Understanding drug legalization', 'searchscope': ['1006072', '1006080', '1006175', '1006759', '1006766', '1006907', '1006993', '1007048', '1007200', '1007617', '1007856', '1007899', '1007945', '1007991', '1008005', '1008045', '1008046', '1008886', '10000025', '10000034', '10000038', '10000039', '10000043', '10000050', '10000062', '10000064', '10000118', '10000120', '10000164', '10000184', 'proquest'], 'creatorcontrib': ['Caulkins, Jonathan', 'Kasunic, Anna', 'Kleiman, Mark', 'Lee, Michael'], 'recordid': 'proquest1625577341'}, 'addata': {'epage': '294', 'aulast': ['Caulkins', 'Kasunic', 'Kleiman', 'Lee'], 'atitle': 'Understanding drug legalization', 'url': 'http://search.proquest.com/docview/1625577341/', 'au': ['Caulkins, Jonathan', 'Kasunic, Anna', 'Kleiman, Mark', 'Lee, Michael'], 'risdate': '20140701', 'format': 'journal', 'ristype': 'JOUR', 'date': '20140701', 'volume': '6', 'jtitle': 'International Public Health Journal', 'pub': 'Nova Science Publishers, Inc.', 'issn': '19474989', 'abstract': '\\xa0 The immense harms that drugs (illicit drugs, alcohol, and tobacco) cause both users and nonusers have prompted many governments to impose strictly enforced bans on production and possession of some of these substances. Such bans can help constrain drug use. However, prohibition also causes its own harms, including harms from black market crime and violence. Drug legalization would ameliorate the black-market harms, but increase some other harms by decreasing price and thus, increasing use and dependence. This paper gives readers a framework for understanding the pros and cons of legalization, and some of its complexities, including the differences between state and national level legalization, the monetary and human costs of regulation and enforcement, and effects of different policies on youth. It also discusses \"middle path\" policy options, such as decriminalization, policy changes under prohibition, and harm reduction. The aim is to peel away the rhetoric of drug legalization/prohibition debate, not to argue for any specific policy.', 'genre': 'article', 'cop': 'Hauppauge', 'issue': '3', 'spage': '283', 'pages': '283-294', 'aufirst': ['Jonathan', 'Anna', 'Mark', 'Michael'], 'auinit1': ['J.', 'A.', 'M.']}, 'display': {'source': ['© ProQuest LLC All rights reserved<img src=\"http://exlibris-pub.s3.amazonaws.com/PQ_Logo.jpg\" style=\"vertical-align:middle;margin-left:7px\">', 'ProQuest Social Science Journals', 'ProQuest Public Health', 'ProQuest Research Library', 'ProQuest Biological Science Collection', 'ProQuest Central', 'ProQuest Environmental Science Collection', 'ProQuest Natural Science Collection', 'ProQuest SciTech Collection', 'ProQuest Social Sciences Premium Collection'], 'ispartof': 'International Public Health Journal, 2014, Vol.6(3), pp.283-294', 'description': '\\xa0 The immense harms that drugs (illicit drugs, alcohol, and tobacco) cause both users and nonusers have prompted many governments to impose strictly enforced bans on production and possession of some of these substances. Such bans can help constrain drug use. However, prohibition also causes its own harms, including harms from black market crime and violence. Drug legalization would ameliorate the black-market harms, but increase some other harms by decreasing price and thus, increasing use and dependence. This paper gives readers a framework for understanding the pros and cons of legalization, and some of its complexities, including the differences between state and national level legalization, the monetary and human costs of regulation and enforcement, and effects of different policies on youth. It also discusses \"middle path\" policy options, such as decriminalization, policy changes under prohibition, and harm reduction. The aim is to peel away the rhetoric of drug legalization/prohibition debate, not to argue for any specific policy.', 'creator': 'Caulkins, Jonathan ; Kasunic, Anna ; Kleiman, Mark ; Lee, Michael', 'type': 'article', 'title': 'Understanding drug legalization', 'identifier': '<b>ISSN: </b>19474989', 'language': 'eng', 'subject': 'United States–Us ; Drug Use ; Teenagers ; Human Rights ; Bans ; Tobacco ; Cocaine ; Marijuana'}}\n",
      "\n",
      "2620259\n",
      "1\n",
      "10\n",
      "0.1\n",
      "primo_central_multiple_fe\n",
      "1\n",
      "{'ranking': {'pcg_type': 'aggregator', 'booster2': '1', 'booster1': '1'}, 'control': {'sourceformat': 'XML', 'sourcerecordid': '104623784', 'sourceid': 'gale_legal', 'sourcesystem': 'Other', 'recordid': 'TN_gale_legal104623784'}, 'links': {'openurl': '$$Topenurl_article', 'openurlfulltext': '$$Topenurlfull_article'}, 'sort': {'author': 'Kennedy, Joseph E.', 'creationdate': '20030622', 'title': 'Drug wars in black and white.(The Political Geography of Race Data in the Criminal Justice System)'}, 'frbr': {'k4': '66', 'k5': '3', 'k6': '153', 'k7': 'law contemporary problems', 'k1': '2003', 'k2': '00239186', 'k16': 'kennedyjosephe', 'k8': 'drug wars in black white', 'k15': 'josephekennedy', 't': '2', 'k9': 'drugwarsinblackandwhite'}, 'delivery': {'delcategory': 'Remote Search Resource', 'fulltext': 'fulltext'}, 'facets': {'frbrgroupid': '-4321255576644799223', 'creationdate': '2003', 'toplevel': 'peer_reviewed', 'topic': ['Narcotics Control–Social Aspects', 'Prohibition–Analysis', 'Criminal Statistics–Comparative Analysis', 'Race Discrimination–Analysis'], 'creatorcontrib': 'Kennedy, Joseph E.', 'frbrtype': '5', 'jtitle': 'Law and Contemporary Problems', 'rsrctype': 'articles', 'language': 'eng', 'prefilter': 'articles', 'collection': 'LegalTrac (Gale)'}, 'search': {'scope': 'gale_legal', 'general': ['English', 'Duke University, School of Law', 'Cengage Learning, Inc.'], 'sourceid': 'gale_legal', 'searchscope': 'gale_legal', 'subject': ['Narcotics control--Social aspects', 'Prohibition--Analysis', 'Criminal statistics--Comparative analysis', 'Race discrimination--Analysis', 'Police Protection', 'Other Justice, Public Order, and Safety Activities', 'International Affairs', '92212', '92219', '92812', 'United States'], 'rsrctype': 'article', 'creationdate': '2003', 'addtitle': 'Law and Contemporary Problems', 'issn': ['0023-9186', '00239186'], 'title': 'Drug wars in black and white.(The Political Geography of Race Data in the Criminal Justice System)', 'recordtype': 'article', 'creatorcontrib': ['Kennedy, Joseph E', 'Kennedy'], 'recordid': 'gale_legal104623784'}, 'addata': {'lad01': 'gale_legal', 'pub': 'Duke University, School of Law', 'atitle': 'Drug wars in black and white.', 'au': 'Kennedy, Joseph E.', 'risdate': '20030622', 'genre': 'article', 'date': '20030622', 'volume': '66', 'jtitle': 'Law and Contemporary Problems', 'ristype': 'JOUR', 'issue': '3', 'issn': '0023-9186', 'spage': '153'}, 'display': {'source': 'Cengage Learning, Inc.', 'ispartof': 'Law and Contemporary Problems, Summer, 2003, Vol.66(3), p.153(29)', 'lds50': 'peer_reviewed', 'version': '7', 'creator': 'Kennedy, Joseph E.', 'type': 'article', 'title': 'Drug wars in black and white.(The Political Geography of Race Data in the Criminal Justice System)', 'identifier': '<b>ISSN: </b>0023-9186', 'language': 'English', 'subject': 'Narcotics Control -- Social Aspects ; Prohibition -- Analysis ; Criminal Statistics -- Comparative Analysis ; Race Discrimination -- Analysis'}}\n",
      "\n",
      "2620290\n",
      "1\n",
      "10\n",
      "0.5\n",
      "primo_central_multiple_fe\n",
      "1\n",
      "{'control': {'sourceformat': 'XML', 'sourcerecordid': '10.2307/1229193', 'sourceid': 'jstor_archive', 'sourcesystem': 'Other', 'recordid': 'TN_jstor_archive10.2307/1229193'}, 'links': {'backlink': '$$Uhttp://www.jstor.org/stable/1229193$$EView_this_record_in_JSTOR', 'openurl': '$$Topenurl_article', 'openurlfulltext': '$$Topenurlfull_article'}, 'sort': {'author': 'Sklansky, David A.', 'creationdate': '19950701', 'title': 'Cocaine, Race, and Equal Protection', 'lso01': '19950701'}, 'delivery': {'delcategory': 'Remote Search Resource', 'fulltext': 'fulltext'}, 'facets': {'frbrgroupid': '4687932491019657535', 'creationdate': '1995', 'prefilter': 'articles', 'frbrtype': '5', 'jtitle': 'Stanford Law Review', 'rsrctype': 'articles', 'language': 'eng', 'creatorcontrib': 'Sklansky, David A.', 'collection': 'JSTOR Archival Journals'}, 'search': {'scope': ['jstor', 'jstor_asc4'], 'enddate': '19950701', 'general': ['English', 'Stanford University School of Law', 'Archival Journals (JSTOR)', 'JSTOR Archival Journals', '10.2307/1229193'], 'sourceid': 'jstor_archive', 'description': 'Most agree that equal protection should guard against laws that disproportionately burden members of a disempowered minority group because of majority prejudice. In this essay, Professor Sklansky argues that equal protection doctrine in its current form fails to achieve this objective. Professor Sklansky reaches this conclusion through an examination of the manner in which courts have upheld the constitutionality of the mandatory federal sentences for trafficking in crack cocaine. Those sentences are far harsher than the penalties federal law prescribes for trafficking in powder cocaine, the precursor of crack cocaine. Professor Sklansky argues that current equal protection doctrine leads courts to ignore troubling evidence that the crack cocaine sentences are so severe at least in part because, unlike the powder cocaine penalties, they are imposed almost exclusively on black defendants. He suggests that an excessive insistence on doctrinal consistency and simplicity has blinded equal protection law to important issues of racial injustice, including the danger that the crack cocaine penalties are the product of unconscious racism. In order to foster a gradual, case-by-case improvement of equal protection law, Professor Sklansky calls for greater toleration of doctrinal disorder.', 'searchscope': ['jstor', 'jstor_asc4'], 'startdate': '19950701', 'rsrctype': 'article', 'creationdate': '1995', 'addtitle': 'Stanford Law Review', 'issn': ['0038-9765', '00389765'], 'citation': 'pf 1283', 'title': 'Cocaine, Race, and Equal Protection', 'recordtype': 'article', 'creatorcontrib': 'Sklansky, David A.', 'recordid': 'jstor_archive10.2307/1229193'}, 'addata': {'epage': '1322', 'pub': 'Stanford University School of Law', 'atitle': 'Cocaine, Race, and Equal Protection', 'au': 'Sklansky, David A.', 'pages': '1283-1322', 'ristype': 'JOUR', 'date': '19950701', 'volume': '47', 'jtitle': 'Stanford Law Review', 'doi': '10.2307/1229193', 'aulast': 'Sklansky', 'issn': '00389765', 'abstract': 'Most agree that equal protection should guard against laws that disproportionately burden members of a disempowered minority group because of majority prejudice. In this essay, Professor Sklansky argues that equal protection doctrine in its current form fails to achieve this objective. Professor Sklansky reaches this conclusion through an examination of the manner in which courts have upheld the constitutionality of the mandatory federal sentences for trafficking in crack cocaine. Those sentences are far harsher than the penalties federal law prescribes for trafficking in powder cocaine, the precursor of crack cocaine. Professor Sklansky argues that current equal protection doctrine leads courts to ignore troubling evidence that the crack cocaine sentences are so severe at least in part because, unlike the powder cocaine penalties, they are imposed almost exclusively on black defendants. He suggests that an excessive insistence on doctrinal consistency and simplicity has blinded equal protection law to important issues of racial injustice, including the danger that the crack cocaine penalties are the product of unconscious racism. In order to foster a gradual, case-by-case improvement of equal protection law, Professor Sklansky calls for greater toleration of doctrinal disorder.', 'genre': 'article', 'issue': '6', 'spage': '1283', 'format': 'journal', 'aufirst': 'David A.'}, 'display': {'source': 'Archival Journals (JSTOR)', 'ispartof': 'Stanford Law Review, 1  July  1995, Vol.47(6), pp.1283-1322', 'description': 'Most agree that equal protection should guard against laws that disproportionately burden members of a disempowered minority group because of majority prejudice. In this essay, Professor Sklansky argues that equal protection doctrine in its current form fails to achieve this objective. Professor Sklansky reaches this conclusion through an examination of the manner in which courts have upheld the constitutionality of the mandatory federal sentences for trafficking in crack cocaine. Those sentences are far harsher than the penalties federal law prescribes for trafficking in powder cocaine, the precursor of crack cocaine. Professor Sklansky argues that current equal protection doctrine leads courts to ignore troubling evidence that the crack cocaine sentences are so severe at least in part because, unlike the powder cocaine penalties, they are imposed almost exclusively on black defendants. He suggests that an excessive insistence on doctrinal consistency and simplicity has blinded equal protection law to important issues of racial injustice, including the danger that the crack cocaine penalties are the product of unconscious racism. In order to foster a gradual, case-by-case improvement of equal protection law, Professor Sklansky calls for greater toleration of doctrinal disorder.', 'version': '6', 'creator': 'Sklansky, David A.', 'type': 'article', 'title': 'Cocaine, Race, and Equal Protection', 'identifier': '<b>ISSN:</b> 00389765 ; <b>DOI:</b> 10.2307/1229193', 'language': 'eng'}}\n",
      "\n",
      "2768054\n",
      "1\n",
      "10\n",
      "0.5\n",
      "primo_central_multiple_fe\n",
      "1\n",
      "{'control': {'sourcerecordid': '840173979', 'sourceid': 'proquest', 'sourcesystem': 'Other', 'recordid': 'TN_proquest840173979'}, 'links': {'linktorsrc': '$$Uhttp://search.proquest.com/docview/840173979/$$EView_record_in_ProQuest_(subscribers_only)', 'openurl': '$$Topenurl_article', 'openurlfulltext': '$$Topenurlfull_article'}, 'sort': {'author': 'Valenza, Joyce', 'creationdate': '20110101', 'title': 'Creative Commons', 'lso01': '20110101'}, 'delivery': {'delcategory': 'Remote Search Resource', 'fulltext': 'fulltext'}, 'facets': {'frbrgroupid': '-6217514525370196873', 'creationdate': '2011', 'topic': ['Nonprofit Organizations', 'Licensing', 'Intellectual Property', 'Creative Commons Corp'], 'creatorcontrib': 'Valenza, Joyce', 'frbrtype': '5', 'jtitle': 'Library Media Connection', 'rsrctype': 'articles', 'language': 'eng', 'prefilter': 'articles', 'collection': ['ProQuest Education Journals', 'ProQuest Research Library', 'ProQuest Discovery', 'ProQuest Central', 'ProQuest Advanced Technologies & Aerospace Collection', 'ProQuest Technology Collection', 'ProQuest SciTech Collection', 'ProQuest Social Sciences Premium Collection']}, 'search': {'scope': ['1005660', '1006080', '1006099', '1006175', '1006183', '1006345', '1006495', '1006500', '1006506', '1006759', '1006760', '1006769', '1006907', '1006930', '1006931', '1006982', '1006993', '1007015', '1007048', '1007050', '1007085', '1007086', '1007147', '1007161', '1007294', '1007852', '1007902', '1007909', '1007935', '1007945', '1007994', '1008008', '10000025', '10000027', '10000034', '10000039', '10000045', '10000051', '10000053', '10000062', '10000064', '10000118', '10000120', '10000164', '10000184', 'proquest'], 'enddate': '20110101', 'general': ['English', 'Linworth Publishing Company', 'ProQuest Education Journals', 'ProQuest Research Library', 'ProQuest Discovery', 'ProQuest Central', 'ProQuest Advanced Technologies & Aerospace Collection', 'ProQuest Technology Collection', 'ProQuest SciTech Collection', 'ProQuest Social Sciences Premium Collection'], 'sourceid': 'proquest', 'description': 'Valenza talks about Creative Commons licensing tools. Creative Commons is a nonprofit organization that works to \"increase the amount of creativity (cultural, educational, and scientific content) in \\'the commons\\'--the body of work that is available to the public for free and legal sharing, use, repurposing, and remixing.\" Creative Commons licensing tools offer content creators a \"simple and standardized\" way to offer others permission to use their work while retaining ownership.', 'startdate': '20110101', 'subject': ['Nonprofit Organizations', 'Licensing', 'Intellectual Property', 'Creative Commons Corp', '813319'], 'rsrctype': 'article', 'creationdate': '2011', 'addtitle': 'Library Media Connection', 'issn': ['15424715', '1542-4715'], 'citation': 'pf 50 vol 29 issue 4', 'title': 'Creative Commons', 'searchscope': ['1005660', '1006080', '1006099', '1006175', '1006183', '1006345', '1006495', '1006500', '1006506', '1006759', '1006760', '1006769', '1006907', '1006930', '1006931', '1006982', '1006993', '1007015', '1007048', '1007050', '1007085', '1007086', '1007147', '1007161', '1007294', '1007852', '1007902', '1007909', '1007935', '1007945', '1007994', '1008008', '10000025', '10000027', '10000034', '10000039', '10000045', '10000051', '10000053', '10000062', '10000064', '10000118', '10000120', '10000164', '10000184', 'proquest'], 'creatorcontrib': 'Valenza, Joyce', 'recordid': 'proquest840173979'}, 'addata': {'aulast': 'Valenza', 'atitle': 'Creative Commons', 'url': 'http://search.proquest.com/docview/840173979/', 'au': 'Valenza, Joyce', 'risdate': '20110101', 'genre': 'article', 'ristype': 'JOUR', 'date': '20110101', 'volume': '29', 'jtitle': 'Library Media Connection', 'pub': 'Linworth Publishing Company', 'issn': '15424715', 'abstract': 'Valenza talks about Creative Commons licensing tools. Creative Commons is a nonprofit organization that works to \"increase the amount of creativity (cultural, educational, and scientific content) in \\'the commons\\'--the body of work that is available to the public for free and legal sharing, use, repurposing, and remixing.\" Creative Commons licensing tools offer content creators a \"simple and standardized\" way to offer others permission to use their work while retaining ownership.', 'cop': 'Worthington', 'issue': '4', 'spage': '50', 'format': 'journal', 'aufirst': 'Joyce', 'auinit1': 'J.'}, 'display': {'source': ['© ProQuest LLC All rights reserved<img src=\"http://exlibris-pub.s3.amazonaws.com/PQ_Logo.jpg\" style=\"vertical-align:middle;margin-left:7px\">', 'ProQuest Education Journals', 'ProQuest Research Library', 'ProQuest Discovery', 'ProQuest Central', 'ProQuest Advanced Technologies & Aerospace Collection', 'ProQuest Technology Collection', 'ProQuest SciTech Collection', 'ProQuest Social Sciences Premium Collection'], 'ispartof': 'Library Media Connection, Jan/Feb 2011, Vol.29(4), p.50', 'description': 'Valenza talks about Creative Commons licensing tools. Creative Commons is a nonprofit organization that works to \"increase the amount of creativity (cultural, educational, and scientific content) in \\'the commons\\'--the body of work that is available to the public for free and legal sharing, use, repurposing, and remixing.\" Creative Commons licensing tools offer content creators a \"simple and standardized\" way to offer others permission to use their work while retaining ownership.', 'version': '2', 'creator': 'Valenza, Joyce', 'type': 'article', 'title': 'Creative Commons', 'identifier': '<b>ISSN: </b>15424715', 'language': 'eng', 'subject': 'Nonprofit Organizations ; Licensing ; Intellectual Property ; Creative Commons Corp'}}\n",
      "\n",
      "2662109\n",
      "1\n",
      "10\n",
      "0.1\n",
      "primo_central_multiple_fe\n",
      "1\n",
      "{'control': {'sourcerecordid': '1398485995', 'sourceid': 'proquest', 'sourcesystem': 'Other', 'recordid': 'TN_proquest1398485995'}, 'links': {'linktorsrc': '$$Uhttp://search.proquest.com/docview/1398485995/$$EView_record_in_ProQuest_(subscribers_only)', 'openurl': '$$Topenurl_article', 'openurlfulltext': '$$Topenurlfull_article'}, 'sort': {'author': 'Ruger, Todd', 'creationdate': '20130506', 'title': 'Copyright Reform?', 'lso01': '20130506'}, 'delivery': {'delcategory': 'Remote Search Resource', 'fulltext': 'fulltext'}, 'facets': {'frbrgroupid': '5177205547320538588', 'creationdate': '2013', 'topic': ['United States–Us', 'Godlatte, Robert William', 'Regulatory Reform', 'Court Hearings & Proceedings', 'Copyright', 'Chairman of the Board'], 'creatorcontrib': 'Ruger, Todd', 'frbrtype': '6', 'jtitle': 'National Law Journal', 'rsrctype': 'newspaper_articles', 'language': 'eng', 'prefilter': 'newspaper_articles', 'collection': ['Accounting & Tax', 'ProQuest Central', 'ProQuest Business Collection']}, 'search': {'scope': ['1000270', '1006080', '1006176', '1006323', '1006543', '1007945', '1008684', '1008685', '10000039', '10000118', '10000164', '10000181', '10000182', '10000194', '10000210', '10000218', 'proquest'], 'enddate': '20130506', 'general': ['English', 'ALM Media Properties, LLC', 'Accounting & Tax', 'ProQuest Central', 'ProQuest Business Collection'], 'sourceid': 'proquest', 'description': '\\xa0 The last time Congress made a major revision to the Copyright Act, the more advanced 8-track tape was pushing aside the less advanced reel-to-reel tapes in the audio marketplace, Representative Bob Goodlatte said during a speech last month at the Library of Congress. That was 1976 -- before the Internet, electronic books, and before music and software pirating became big business. These technologies have ushered in complex and unsettled legal issues that affect the public at large. Goodlatte, the new chairman of the House, Judiciary Committee, announced on April 24 he would hold a series of hearings on US copyright law in the coming months and welcomed interested parties to submit their views.', 'startdate': '20130506', 'subject': ['United States–Us', 'Godlatte, Robert William', 'Regulatory Reform', 'Court Hearings & Proceedings', 'Copyright', 'Chairman of the Board'], 'rsrctype': 'newspaper_article', 'creationdate': '2013', 'addtitle': 'National Law Journal', 'issn': ['01627325', '0162-7325'], 'citation': 'pf 23 vol 35 issue 35', 'title': 'Copyright Reform?', 'searchscope': ['1000270', '1006080', '1006176', '1006323', '1006543', '1007945', '1008684', '1008685', '10000039', '10000118', '10000164', '10000181', '10000182', '10000194', '10000210', '10000218', 'proquest'], 'creatorcontrib': 'Ruger, Todd', 'recordid': 'proquest1398485995'}, 'addata': {'aulast': 'Ruger', 'atitle': 'Copyright Reform?', 'url': 'http://search.proquest.com/docview/1398485995/', 'au': 'Ruger, Todd', 'risdate': '20130506', 'genre': 'article', 'ristype': 'GEN', 'date': '20130506', 'volume': '35', 'jtitle': 'National Law Journal', 'pub': 'ALM Media Properties, LLC', 'issn': '01627325', 'abstract': '\\xa0 The last time Congress made a major revision to the Copyright Act, the more advanced 8-track tape was pushing aside the less advanced reel-to-reel tapes in the audio marketplace, Representative Bob Goodlatte said during a speech last month at the Library of Congress. That was 1976 -- before the Internet, electronic books, and before music and software pirating became big business. These technologies have ushered in complex and unsettled legal issues that affect the public at large. Goodlatte, the new chairman of the House, Judiciary Committee, announced on April 24 he would hold a series of hearings on US copyright law in the coming months and welcomed interested parties to submit their views.', 'cop': 'New York', 'issue': '35', 'spage': '23', 'format': 'journal', 'aufirst': 'Todd', 'auinit1': 'T.'}, 'display': {'source': ['© ProQuest LLC All rights reserved<img src=\"http://exlibris-pub.s3.amazonaws.com/PQ_Logo.jpg\" style=\"vertical-align:middle;margin-left:7px\">', 'Accounting & Tax', 'ProQuest Central', 'ProQuest Business Collection'], 'ispartof': 'National Law Journal, May 6, 2013, Vol.35(35), p.23', 'description': '\\xa0 The last time Congress made a major revision to the Copyright Act, the more advanced 8-track tape was pushing aside the less advanced reel-to-reel tapes in the audio marketplace, Representative Bob Goodlatte said during a speech last month at the Library of Congress. That was 1976 -- before the Internet, electronic books, and before music and software pirating became big business. These technologies have ushered in complex and unsettled legal issues that affect the public at large. Goodlatte, the new chairman of the House, Judiciary Committee, announced on April 24 he would hold a series of hearings on US copyright law in the coming months and welcomed interested parties to submit their views.', 'creator': 'Ruger, Todd', 'type': 'newspaper_article', 'title': 'Copyright Reform?', 'identifier': '<b>ISSN: </b>01627325', 'language': 'eng', 'subject': 'United States–Us ; Godlatte, Robert William ; Regulatory Reform ; Court Hearings & Proceedings ; Copyright ; Chairman of the Board'}}\n",
      "\n"
     ]
    }
   ],
   "source": [
    "for index,row in df.iterrows():\n",
    "    print(row['TotalHits'])\n",
    "    print(row['FirstHit'])\n",
    "    print(row['LastHit'])\n",
    "    print(row['Rank'])\n",
    "    print(row['SearchEngine'])\n",
    "    print(row['ResultNumber'])\n",
    "    print(row['Bib'])\n",
    "    print()"
   ]
  },
  {
   "cell_type": "code",
   "execution_count": null,
   "metadata": {
    "collapsed": true
   },
   "outputs": [],
   "source": []
  }
 ],
 "metadata": {
  "kernelspec": {
   "display_name": "Python 3",
   "language": "python",
   "name": "python3"
  },
  "language_info": {
   "codemirror_mode": {
    "name": "ipython",
    "version": 3
   },
   "file_extension": ".py",
   "mimetype": "text/x-python",
   "name": "python",
   "nbconvert_exporter": "python",
   "pygments_lexer": "ipython3",
   "version": "3.3.5"
  }
 },
 "nbformat": 4,
 "nbformat_minor": 0
}
